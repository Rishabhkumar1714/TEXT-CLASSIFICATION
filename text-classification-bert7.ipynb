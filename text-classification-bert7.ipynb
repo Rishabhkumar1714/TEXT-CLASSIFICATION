{
 "cells": [
  {
   "cell_type": "code",
   "execution_count": 1,
   "id": "ca63258c",
   "metadata": {
    "_cell_guid": "b1076dfc-b9ad-4769-8c92-a6c4dae69d19",
    "_uuid": "8f2839f25d086af736a60e9eeb907d3b93b6e0e5",
    "execution": {
     "iopub.execute_input": "2021-12-22T19:16:37.935666Z",
     "iopub.status.busy": "2021-12-22T19:16:37.930516Z",
     "iopub.status.idle": "2021-12-22T19:17:49.124546Z",
     "shell.execute_reply": "2021-12-22T19:17:49.123172Z",
     "shell.execute_reply.started": "2021-12-22T17:55:52.917876Z"
    },
    "papermill": {
     "duration": 71.2322,
     "end_time": "2021-12-22T19:17:49.124962",
     "exception": false,
     "start_time": "2021-12-22T19:16:37.892762",
     "status": "completed"
    },
    "tags": []
   },
   "outputs": [
    {
     "name": "stdout",
     "output_type": "stream",
     "text": [
      "Collecting tensorflow_text\r\n",
      "  Downloading tensorflow_text-2.7.3-cp37-cp37m-manylinux2010_x86_64.whl (4.9 MB)\r\n",
      "     |████████████████████████████████| 4.9 MB 4.4 MB/s            \r\n",
      "\u001b[?25hRequirement already satisfied: tensorflow-hub>=0.8.0 in /opt/conda/lib/python3.7/site-packages (from tensorflow_text) (0.12.0)\r\n",
      "Collecting tensorflow<2.8,>=2.7.0\r\n",
      "  Downloading tensorflow-2.7.0-cp37-cp37m-manylinux2010_x86_64.whl (489.6 MB)\r\n",
      "     |████████████████████████████████| 489.6 MB 19 kB/s               \r\n",
      "\u001b[?25hRequirement already satisfied: gast<0.5.0,>=0.2.1 in /opt/conda/lib/python3.7/site-packages (from tensorflow<2.8,>=2.7.0->tensorflow_text) (0.4.0)\r\n",
      "Requirement already satisfied: h5py>=2.9.0 in /opt/conda/lib/python3.7/site-packages (from tensorflow<2.8,>=2.7.0->tensorflow_text) (3.1.0)\r\n",
      "Requirement already satisfied: numpy>=1.14.5 in /opt/conda/lib/python3.7/site-packages (from tensorflow<2.8,>=2.7.0->tensorflow_text) (1.19.5)\r\n",
      "Requirement already satisfied: absl-py>=0.4.0 in /opt/conda/lib/python3.7/site-packages (from tensorflow<2.8,>=2.7.0->tensorflow_text) (0.15.0)\r\n",
      "Requirement already satisfied: opt-einsum>=2.3.2 in /opt/conda/lib/python3.7/site-packages (from tensorflow<2.8,>=2.7.0->tensorflow_text) (3.3.0)\r\n",
      "Collecting tensorflow-estimator<2.8,~=2.7.0rc0\r\n",
      "  Downloading tensorflow_estimator-2.7.0-py2.py3-none-any.whl (463 kB)\r\n",
      "     |████████████████████████████████| 463 kB 61.2 MB/s            \r\n",
      "\u001b[?25hRequirement already satisfied: astunparse>=1.6.0 in /opt/conda/lib/python3.7/site-packages (from tensorflow<2.8,>=2.7.0->tensorflow_text) (1.6.3)\r\n",
      "Collecting libclang>=9.0.1\r\n",
      "  Downloading libclang-12.0.0-py2.py3-none-manylinux1_x86_64.whl (13.4 MB)\r\n",
      "     |████████████████████████████████| 13.4 MB 31.6 MB/s            \r\n",
      "\u001b[?25hRequirement already satisfied: google-pasta>=0.1.1 in /opt/conda/lib/python3.7/site-packages (from tensorflow<2.8,>=2.7.0->tensorflow_text) (0.2.0)\r\n",
      "Requirement already satisfied: protobuf>=3.9.2 in /opt/conda/lib/python3.7/site-packages (from tensorflow<2.8,>=2.7.0->tensorflow_text) (3.19.1)\r\n",
      "Requirement already satisfied: wheel<1.0,>=0.32.0 in /opt/conda/lib/python3.7/site-packages (from tensorflow<2.8,>=2.7.0->tensorflow_text) (0.37.0)\r\n",
      "Requirement already satisfied: grpcio<2.0,>=1.24.3 in /opt/conda/lib/python3.7/site-packages (from tensorflow<2.8,>=2.7.0->tensorflow_text) (1.42.0)\r\n",
      "Requirement already satisfied: six>=1.12.0 in /opt/conda/lib/python3.7/site-packages (from tensorflow<2.8,>=2.7.0->tensorflow_text) (1.16.0)\r\n",
      "Requirement already satisfied: typing-extensions>=3.6.6 in /opt/conda/lib/python3.7/site-packages (from tensorflow<2.8,>=2.7.0->tensorflow_text) (3.10.0.2)\r\n",
      "Requirement already satisfied: keras-preprocessing>=1.1.1 in /opt/conda/lib/python3.7/site-packages (from tensorflow<2.8,>=2.7.0->tensorflow_text) (1.1.2)\r\n",
      "Collecting keras<2.8,>=2.7.0rc0\r\n",
      "  Downloading keras-2.7.0-py2.py3-none-any.whl (1.3 MB)\r\n",
      "     |████████████████████████████████| 1.3 MB 47.3 MB/s            \r\n",
      "\u001b[?25hRequirement already satisfied: termcolor>=1.1.0 in /opt/conda/lib/python3.7/site-packages (from tensorflow<2.8,>=2.7.0->tensorflow_text) (1.1.0)\r\n",
      "Requirement already satisfied: tensorboard~=2.6 in /opt/conda/lib/python3.7/site-packages (from tensorflow<2.8,>=2.7.0->tensorflow_text) (2.6.0)\r\n",
      "Collecting tensorflow-io-gcs-filesystem>=0.21.0\r\n",
      "  Downloading tensorflow_io_gcs_filesystem-0.23.1-cp37-cp37m-manylinux_2_12_x86_64.manylinux2010_x86_64.whl (2.1 MB)\r\n",
      "     |████████████████████████████████| 2.1 MB 39.4 MB/s            \r\n",
      "\u001b[?25hRequirement already satisfied: flatbuffers<3.0,>=1.12 in /opt/conda/lib/python3.7/site-packages (from tensorflow<2.8,>=2.7.0->tensorflow_text) (1.12)\r\n",
      "Requirement already satisfied: wrapt>=1.11.0 in /opt/conda/lib/python3.7/site-packages (from tensorflow<2.8,>=2.7.0->tensorflow_text) (1.13.3)\r\n",
      "Requirement already satisfied: cached-property in /opt/conda/lib/python3.7/site-packages (from h5py>=2.9.0->tensorflow<2.8,>=2.7.0->tensorflow_text) (1.5.2)\r\n",
      "Requirement already satisfied: werkzeug>=0.11.15 in /opt/conda/lib/python3.7/site-packages (from tensorboard~=2.6->tensorflow<2.8,>=2.7.0->tensorflow_text) (2.0.2)\r\n",
      "Requirement already satisfied: google-auth<2,>=1.6.3 in /opt/conda/lib/python3.7/site-packages (from tensorboard~=2.6->tensorflow<2.8,>=2.7.0->tensorflow_text) (1.35.0)\r\n",
      "Requirement already satisfied: requests<3,>=2.21.0 in /opt/conda/lib/python3.7/site-packages (from tensorboard~=2.6->tensorflow<2.8,>=2.7.0->tensorflow_text) (2.25.1)\r\n",
      "Requirement already satisfied: setuptools>=41.0.0 in /opt/conda/lib/python3.7/site-packages (from tensorboard~=2.6->tensorflow<2.8,>=2.7.0->tensorflow_text) (59.1.1)\r\n",
      "Requirement already satisfied: google-auth-oauthlib<0.5,>=0.4.1 in /opt/conda/lib/python3.7/site-packages (from tensorboard~=2.6->tensorflow<2.8,>=2.7.0->tensorflow_text) (0.4.6)\r\n",
      "Requirement already satisfied: tensorboard-data-server<0.7.0,>=0.6.0 in /opt/conda/lib/python3.7/site-packages (from tensorboard~=2.6->tensorflow<2.8,>=2.7.0->tensorflow_text) (0.6.1)\r\n",
      "Requirement already satisfied: tensorboard-plugin-wit>=1.6.0 in /opt/conda/lib/python3.7/site-packages (from tensorboard~=2.6->tensorflow<2.8,>=2.7.0->tensorflow_text) (1.8.0)\r\n",
      "Requirement already satisfied: markdown>=2.6.8 in /opt/conda/lib/python3.7/site-packages (from tensorboard~=2.6->tensorflow<2.8,>=2.7.0->tensorflow_text) (3.3.6)\r\n",
      "Requirement already satisfied: cachetools<5.0,>=2.0.0 in /opt/conda/lib/python3.7/site-packages (from google-auth<2,>=1.6.3->tensorboard~=2.6->tensorflow<2.8,>=2.7.0->tensorflow_text) (4.2.4)\r\n",
      "Requirement already satisfied: rsa<5,>=3.1.4 in /opt/conda/lib/python3.7/site-packages (from google-auth<2,>=1.6.3->tensorboard~=2.6->tensorflow<2.8,>=2.7.0->tensorflow_text) (4.7.2)\r\n",
      "Requirement already satisfied: pyasn1-modules>=0.2.1 in /opt/conda/lib/python3.7/site-packages (from google-auth<2,>=1.6.3->tensorboard~=2.6->tensorflow<2.8,>=2.7.0->tensorflow_text) (0.2.7)\r\n",
      "Requirement already satisfied: requests-oauthlib>=0.7.0 in /opt/conda/lib/python3.7/site-packages (from google-auth-oauthlib<0.5,>=0.4.1->tensorboard~=2.6->tensorflow<2.8,>=2.7.0->tensorflow_text) (1.3.0)\r\n",
      "Requirement already satisfied: importlib-metadata>=4.4 in /opt/conda/lib/python3.7/site-packages (from markdown>=2.6.8->tensorboard~=2.6->tensorflow<2.8,>=2.7.0->tensorflow_text) (4.8.2)\r\n",
      "Requirement already satisfied: urllib3<1.27,>=1.21.1 in /opt/conda/lib/python3.7/site-packages (from requests<3,>=2.21.0->tensorboard~=2.6->tensorflow<2.8,>=2.7.0->tensorflow_text) (1.26.7)\r\n",
      "Requirement already satisfied: idna<3,>=2.5 in /opt/conda/lib/python3.7/site-packages (from requests<3,>=2.21.0->tensorboard~=2.6->tensorflow<2.8,>=2.7.0->tensorflow_text) (2.10)\r\n",
      "Requirement already satisfied: certifi>=2017.4.17 in /opt/conda/lib/python3.7/site-packages (from requests<3,>=2.21.0->tensorboard~=2.6->tensorflow<2.8,>=2.7.0->tensorflow_text) (2021.10.8)\r\n",
      "Requirement already satisfied: chardet<5,>=3.0.2 in /opt/conda/lib/python3.7/site-packages (from requests<3,>=2.21.0->tensorboard~=2.6->tensorflow<2.8,>=2.7.0->tensorflow_text) (4.0.0)\r\n",
      "Requirement already satisfied: zipp>=0.5 in /opt/conda/lib/python3.7/site-packages (from importlib-metadata>=4.4->markdown>=2.6.8->tensorboard~=2.6->tensorflow<2.8,>=2.7.0->tensorflow_text) (3.6.0)\r\n",
      "Requirement already satisfied: pyasn1<0.5.0,>=0.4.6 in /opt/conda/lib/python3.7/site-packages (from pyasn1-modules>=0.2.1->google-auth<2,>=1.6.3->tensorboard~=2.6->tensorflow<2.8,>=2.7.0->tensorflow_text) (0.4.8)\r\n",
      "Requirement already satisfied: oauthlib>=3.0.0 in /opt/conda/lib/python3.7/site-packages (from requests-oauthlib>=0.7.0->google-auth-oauthlib<0.5,>=0.4.1->tensorboard~=2.6->tensorflow<2.8,>=2.7.0->tensorflow_text) (3.1.1)\r\n",
      "Installing collected packages: tensorflow-io-gcs-filesystem, tensorflow-estimator, libclang, keras, tensorflow, tensorflow-text\r\n",
      "  Attempting uninstall: tensorflow-estimator\r\n",
      "    Found existing installation: tensorflow-estimator 2.6.0\r\n",
      "    Uninstalling tensorflow-estimator-2.6.0:\r\n",
      "      Successfully uninstalled tensorflow-estimator-2.6.0\r\n",
      "  Attempting uninstall: keras\r\n",
      "    Found existing installation: keras 2.6.0\r\n",
      "    Uninstalling keras-2.6.0:\r\n",
      "      Successfully uninstalled keras-2.6.0\r\n",
      "  Attempting uninstall: tensorflow\r\n",
      "    Found existing installation: tensorflow 2.6.2\r\n",
      "    Uninstalling tensorflow-2.6.2:\r\n",
      "      Successfully uninstalled tensorflow-2.6.2\r\n",
      "\u001b[31mERROR: pip's dependency resolver does not currently take into account all the packages that are installed. This behaviour is the source of the following dependency conflicts.\r\n",
      "explainable-ai-sdk 1.3.2 requires xai-image-widget, which is not installed.\r\n",
      "tfx-bsl 1.4.0 requires absl-py<0.13,>=0.9, but you have absl-py 0.15.0 which is incompatible.\r\n",
      "tfx-bsl 1.4.0 requires pyarrow<6,>=1, but you have pyarrow 6.0.0 which is incompatible.\r\n",
      "tensorflow-transform 1.4.0 requires absl-py<0.13,>=0.9, but you have absl-py 0.15.0 which is incompatible.\r\n",
      "tensorflow-transform 1.4.0 requires pyarrow<6,>=1, but you have pyarrow 6.0.0 which is incompatible.\r\n",
      "tensorflow-transform 1.4.0 requires tensorflow!=2.0.*,!=2.1.*,!=2.2.*,!=2.3.*,!=2.4.*,!=2.5.*,<2.7,>=1.15.2, but you have tensorflow 2.7.0 which is incompatible.\r\n",
      "tensorflow-io 0.21.0 requires tensorflow<2.7.0,>=2.6.0, but you have tensorflow 2.7.0 which is incompatible.\r\n",
      "tensorflow-io 0.21.0 requires tensorflow-io-gcs-filesystem==0.21.0, but you have tensorflow-io-gcs-filesystem 0.23.1 which is incompatible.\u001b[0m\r\n",
      "Successfully installed keras-2.7.0 libclang-12.0.0 tensorflow-2.7.0 tensorflow-estimator-2.7.0 tensorflow-io-gcs-filesystem-0.23.1 tensorflow-text-2.7.3\r\n",
      "\u001b[33mWARNING: Running pip as the 'root' user can result in broken permissions and conflicting behaviour with the system package manager. It is recommended to use a virtual environment instead: https://pip.pypa.io/warnings/venv\u001b[0m\r\n"
     ]
    }
   ],
   "source": [
    "!python -m pip install tensorflow_text"
   ]
  },
  {
   "cell_type": "code",
   "execution_count": 2,
   "id": "0143ae06",
   "metadata": {
    "execution": {
     "iopub.execute_input": "2021-12-22T19:17:49.707696Z",
     "iopub.status.busy": "2021-12-22T19:17:49.705963Z",
     "iopub.status.idle": "2021-12-22T19:17:55.346287Z",
     "shell.execute_reply": "2021-12-22T19:17:55.345488Z",
     "shell.execute_reply.started": "2021-12-22T17:58:08.031545Z"
    },
    "papermill": {
     "duration": 5.914002,
     "end_time": "2021-12-22T19:17:55.346453",
     "exception": false,
     "start_time": "2021-12-22T19:17:49.432451",
     "status": "completed"
    },
    "tags": []
   },
   "outputs": [
    {
     "name": "stderr",
     "output_type": "stream",
     "text": [
      "2021-12-22 19:17:49.956458: W tensorflow/stream_executor/platform/default/dso_loader.cc:64] Could not load dynamic library 'libcudart.so.11.0'; dlerror: libcudart.so.11.0: cannot open shared object file: No such file or directory; LD_LIBRARY_PATH: /usr/local/cuda/lib64:/usr/local/cuda/lib:/usr/local/lib/x86_64-linux-gnu:/usr/local/nvidia/lib:/usr/local/nvidia/lib64:\n",
      "2021-12-22 19:17:49.956559: I tensorflow/stream_executor/cuda/cudart_stub.cc:29] Ignore above cudart dlerror if you do not have a GPU set up on your machine.\n"
     ]
    }
   ],
   "source": [
    "import tensorflow as tf\n",
    "import tensorflow_hub as hub\n",
    "import tensorflow_text as text"
   ]
  },
  {
   "cell_type": "code",
   "execution_count": 3,
   "id": "1a0411af",
   "metadata": {
    "execution": {
     "iopub.execute_input": "2021-12-22T19:17:55.820117Z",
     "iopub.status.busy": "2021-12-22T19:17:55.818481Z",
     "iopub.status.idle": "2021-12-22T19:17:55.823814Z",
     "shell.execute_reply": "2021-12-22T19:17:55.823226Z",
     "shell.execute_reply.started": "2021-12-22T17:58:28.723499Z"
    },
    "papermill": {
     "duration": 0.240833,
     "end_time": "2021-12-22T19:17:55.824002",
     "exception": false,
     "start_time": "2021-12-22T19:17:55.583169",
     "status": "completed"
    },
    "tags": []
   },
   "outputs": [],
   "source": [
    "import pandas as pd"
   ]
  },
  {
   "cell_type": "code",
   "execution_count": 4,
   "id": "687eb0e0",
   "metadata": {
    "execution": {
     "iopub.execute_input": "2021-12-22T19:17:56.276598Z",
     "iopub.status.busy": "2021-12-22T19:17:56.275505Z",
     "iopub.status.idle": "2021-12-22T19:17:56.323711Z",
     "shell.execute_reply": "2021-12-22T19:17:56.324825Z",
     "shell.execute_reply.started": "2021-12-22T17:58:30.399330Z"
    },
    "papermill": {
     "duration": 0.274802,
     "end_time": "2021-12-22T19:17:56.325169",
     "exception": false,
     "start_time": "2021-12-22T19:17:56.050367",
     "status": "completed"
    },
    "tags": []
   },
   "outputs": [],
   "source": [
    "df=pd.read_csv(\"../input/sms-spam-collection-dataset/spam.csv\", encoding=\"ISO-8859-1\")"
   ]
  },
  {
   "cell_type": "code",
   "execution_count": 5,
   "id": "71ef7a89",
   "metadata": {
    "execution": {
     "iopub.execute_input": "2021-12-22T19:17:56.791284Z",
     "iopub.status.busy": "2021-12-22T19:17:56.790548Z",
     "iopub.status.idle": "2021-12-22T19:17:56.810314Z",
     "shell.execute_reply": "2021-12-22T19:17:56.810909Z",
     "shell.execute_reply.started": "2021-12-22T17:58:31.881434Z"
    },
    "papermill": {
     "duration": 0.258606,
     "end_time": "2021-12-22T19:17:56.811123",
     "exception": false,
     "start_time": "2021-12-22T19:17:56.552517",
     "status": "completed"
    },
    "tags": []
   },
   "outputs": [
    {
     "data": {
      "text/html": [
       "<div>\n",
       "<style scoped>\n",
       "    .dataframe tbody tr th:only-of-type {\n",
       "        vertical-align: middle;\n",
       "    }\n",
       "\n",
       "    .dataframe tbody tr th {\n",
       "        vertical-align: top;\n",
       "    }\n",
       "\n",
       "    .dataframe thead th {\n",
       "        text-align: right;\n",
       "    }\n",
       "</style>\n",
       "<table border=\"1\" class=\"dataframe\">\n",
       "  <thead>\n",
       "    <tr style=\"text-align: right;\">\n",
       "      <th></th>\n",
       "      <th>v1</th>\n",
       "      <th>v2</th>\n",
       "      <th>Unnamed: 2</th>\n",
       "      <th>Unnamed: 3</th>\n",
       "      <th>Unnamed: 4</th>\n",
       "    </tr>\n",
       "  </thead>\n",
       "  <tbody>\n",
       "    <tr>\n",
       "      <th>0</th>\n",
       "      <td>ham</td>\n",
       "      <td>Go until jurong point, crazy.. Available only ...</td>\n",
       "      <td>NaN</td>\n",
       "      <td>NaN</td>\n",
       "      <td>NaN</td>\n",
       "    </tr>\n",
       "    <tr>\n",
       "      <th>1</th>\n",
       "      <td>ham</td>\n",
       "      <td>Ok lar... Joking wif u oni...</td>\n",
       "      <td>NaN</td>\n",
       "      <td>NaN</td>\n",
       "      <td>NaN</td>\n",
       "    </tr>\n",
       "    <tr>\n",
       "      <th>2</th>\n",
       "      <td>spam</td>\n",
       "      <td>Free entry in 2 a wkly comp to win FA Cup fina...</td>\n",
       "      <td>NaN</td>\n",
       "      <td>NaN</td>\n",
       "      <td>NaN</td>\n",
       "    </tr>\n",
       "    <tr>\n",
       "      <th>3</th>\n",
       "      <td>ham</td>\n",
       "      <td>U dun say so early hor... U c already then say...</td>\n",
       "      <td>NaN</td>\n",
       "      <td>NaN</td>\n",
       "      <td>NaN</td>\n",
       "    </tr>\n",
       "    <tr>\n",
       "      <th>4</th>\n",
       "      <td>ham</td>\n",
       "      <td>Nah I don't think he goes to usf, he lives aro...</td>\n",
       "      <td>NaN</td>\n",
       "      <td>NaN</td>\n",
       "      <td>NaN</td>\n",
       "    </tr>\n",
       "  </tbody>\n",
       "</table>\n",
       "</div>"
      ],
      "text/plain": [
       "     v1                                                 v2 Unnamed: 2  \\\n",
       "0   ham  Go until jurong point, crazy.. Available only ...        NaN   \n",
       "1   ham                      Ok lar... Joking wif u oni...        NaN   \n",
       "2  spam  Free entry in 2 a wkly comp to win FA Cup fina...        NaN   \n",
       "3   ham  U dun say so early hor... U c already then say...        NaN   \n",
       "4   ham  Nah I don't think he goes to usf, he lives aro...        NaN   \n",
       "\n",
       "  Unnamed: 3 Unnamed: 4  \n",
       "0        NaN        NaN  \n",
       "1        NaN        NaN  \n",
       "2        NaN        NaN  \n",
       "3        NaN        NaN  \n",
       "4        NaN        NaN  "
      ]
     },
     "execution_count": 5,
     "metadata": {},
     "output_type": "execute_result"
    }
   ],
   "source": [
    "df.head()"
   ]
  },
  {
   "cell_type": "code",
   "execution_count": 6,
   "id": "15de19e5",
   "metadata": {
    "execution": {
     "iopub.execute_input": "2021-12-22T19:17:57.275187Z",
     "iopub.status.busy": "2021-12-22T19:17:57.274137Z",
     "iopub.status.idle": "2021-12-22T19:17:57.277758Z",
     "shell.execute_reply": "2021-12-22T19:17:57.278288Z",
     "shell.execute_reply.started": "2021-12-22T17:58:33.423740Z"
    },
    "papermill": {
     "duration": 0.242179,
     "end_time": "2021-12-22T19:17:57.278494",
     "exception": false,
     "start_time": "2021-12-22T19:17:57.036315",
     "status": "completed"
    },
    "tags": []
   },
   "outputs": [],
   "source": [
    "df.drop(['Unnamed: 2','Unnamed: 3','Unnamed: 4'],axis=1,inplace=True)"
   ]
  },
  {
   "cell_type": "code",
   "execution_count": 7,
   "id": "c7fe4bd5",
   "metadata": {
    "execution": {
     "iopub.execute_input": "2021-12-22T19:17:57.741200Z",
     "iopub.status.busy": "2021-12-22T19:17:57.740081Z",
     "iopub.status.idle": "2021-12-22T19:17:57.749061Z",
     "shell.execute_reply": "2021-12-22T19:17:57.748494Z",
     "shell.execute_reply.started": "2021-12-22T17:58:35.114844Z"
    },
    "papermill": {
     "duration": 0.24687,
     "end_time": "2021-12-22T19:17:57.749219",
     "exception": false,
     "start_time": "2021-12-22T19:17:57.502349",
     "status": "completed"
    },
    "tags": []
   },
   "outputs": [
    {
     "data": {
      "text/html": [
       "<div>\n",
       "<style scoped>\n",
       "    .dataframe tbody tr th:only-of-type {\n",
       "        vertical-align: middle;\n",
       "    }\n",
       "\n",
       "    .dataframe tbody tr th {\n",
       "        vertical-align: top;\n",
       "    }\n",
       "\n",
       "    .dataframe thead th {\n",
       "        text-align: right;\n",
       "    }\n",
       "</style>\n",
       "<table border=\"1\" class=\"dataframe\">\n",
       "  <thead>\n",
       "    <tr style=\"text-align: right;\">\n",
       "      <th></th>\n",
       "      <th>v1</th>\n",
       "      <th>v2</th>\n",
       "    </tr>\n",
       "  </thead>\n",
       "  <tbody>\n",
       "    <tr>\n",
       "      <th>0</th>\n",
       "      <td>ham</td>\n",
       "      <td>Go until jurong point, crazy.. Available only ...</td>\n",
       "    </tr>\n",
       "    <tr>\n",
       "      <th>1</th>\n",
       "      <td>ham</td>\n",
       "      <td>Ok lar... Joking wif u oni...</td>\n",
       "    </tr>\n",
       "    <tr>\n",
       "      <th>2</th>\n",
       "      <td>spam</td>\n",
       "      <td>Free entry in 2 a wkly comp to win FA Cup fina...</td>\n",
       "    </tr>\n",
       "    <tr>\n",
       "      <th>3</th>\n",
       "      <td>ham</td>\n",
       "      <td>U dun say so early hor... U c already then say...</td>\n",
       "    </tr>\n",
       "    <tr>\n",
       "      <th>4</th>\n",
       "      <td>ham</td>\n",
       "      <td>Nah I don't think he goes to usf, he lives aro...</td>\n",
       "    </tr>\n",
       "    <tr>\n",
       "      <th>...</th>\n",
       "      <td>...</td>\n",
       "      <td>...</td>\n",
       "    </tr>\n",
       "    <tr>\n",
       "      <th>5567</th>\n",
       "      <td>spam</td>\n",
       "      <td>This is the 2nd time we have tried 2 contact u...</td>\n",
       "    </tr>\n",
       "    <tr>\n",
       "      <th>5568</th>\n",
       "      <td>ham</td>\n",
       "      <td>Will Ì_ b going to esplanade fr home?</td>\n",
       "    </tr>\n",
       "    <tr>\n",
       "      <th>5569</th>\n",
       "      <td>ham</td>\n",
       "      <td>Pity, * was in mood for that. So...any other s...</td>\n",
       "    </tr>\n",
       "    <tr>\n",
       "      <th>5570</th>\n",
       "      <td>ham</td>\n",
       "      <td>The guy did some bitching but I acted like i'd...</td>\n",
       "    </tr>\n",
       "    <tr>\n",
       "      <th>5571</th>\n",
       "      <td>ham</td>\n",
       "      <td>Rofl. Its true to its name</td>\n",
       "    </tr>\n",
       "  </tbody>\n",
       "</table>\n",
       "<p>5572 rows × 2 columns</p>\n",
       "</div>"
      ],
      "text/plain": [
       "        v1                                                 v2\n",
       "0      ham  Go until jurong point, crazy.. Available only ...\n",
       "1      ham                      Ok lar... Joking wif u oni...\n",
       "2     spam  Free entry in 2 a wkly comp to win FA Cup fina...\n",
       "3      ham  U dun say so early hor... U c already then say...\n",
       "4      ham  Nah I don't think he goes to usf, he lives aro...\n",
       "...    ...                                                ...\n",
       "5567  spam  This is the 2nd time we have tried 2 contact u...\n",
       "5568   ham              Will Ì_ b going to esplanade fr home?\n",
       "5569   ham  Pity, * was in mood for that. So...any other s...\n",
       "5570   ham  The guy did some bitching but I acted like i'd...\n",
       "5571   ham                         Rofl. Its true to its name\n",
       "\n",
       "[5572 rows x 2 columns]"
      ]
     },
     "execution_count": 7,
     "metadata": {},
     "output_type": "execute_result"
    }
   ],
   "source": [
    "df"
   ]
  },
  {
   "cell_type": "code",
   "execution_count": 8,
   "id": "ef766e27",
   "metadata": {
    "execution": {
     "iopub.execute_input": "2021-12-22T19:17:58.218938Z",
     "iopub.status.busy": "2021-12-22T19:17:58.218055Z",
     "iopub.status.idle": "2021-12-22T19:17:58.257984Z",
     "shell.execute_reply": "2021-12-22T19:17:58.258540Z",
     "shell.execute_reply.started": "2021-12-22T17:58:36.344129Z"
    },
    "papermill": {
     "duration": 0.280204,
     "end_time": "2021-12-22T19:17:58.258733",
     "exception": false,
     "start_time": "2021-12-22T19:17:57.978529",
     "status": "completed"
    },
    "tags": []
   },
   "outputs": [
    {
     "data": {
      "text/html": [
       "<div>\n",
       "<style scoped>\n",
       "    .dataframe tbody tr th:only-of-type {\n",
       "        vertical-align: middle;\n",
       "    }\n",
       "\n",
       "    .dataframe tbody tr th {\n",
       "        vertical-align: top;\n",
       "    }\n",
       "\n",
       "    .dataframe thead tr th {\n",
       "        text-align: left;\n",
       "    }\n",
       "\n",
       "    .dataframe thead tr:last-of-type th {\n",
       "        text-align: right;\n",
       "    }\n",
       "</style>\n",
       "<table border=\"1\" class=\"dataframe\">\n",
       "  <thead>\n",
       "    <tr>\n",
       "      <th></th>\n",
       "      <th colspan=\"4\" halign=\"left\">v2</th>\n",
       "    </tr>\n",
       "    <tr>\n",
       "      <th></th>\n",
       "      <th>count</th>\n",
       "      <th>unique</th>\n",
       "      <th>top</th>\n",
       "      <th>freq</th>\n",
       "    </tr>\n",
       "    <tr>\n",
       "      <th>v1</th>\n",
       "      <th></th>\n",
       "      <th></th>\n",
       "      <th></th>\n",
       "      <th></th>\n",
       "    </tr>\n",
       "  </thead>\n",
       "  <tbody>\n",
       "    <tr>\n",
       "      <th>ham</th>\n",
       "      <td>4825</td>\n",
       "      <td>4516</td>\n",
       "      <td>Sorry, I'll call later</td>\n",
       "      <td>30</td>\n",
       "    </tr>\n",
       "    <tr>\n",
       "      <th>spam</th>\n",
       "      <td>747</td>\n",
       "      <td>653</td>\n",
       "      <td>Please call our customer service representativ...</td>\n",
       "      <td>4</td>\n",
       "    </tr>\n",
       "  </tbody>\n",
       "</table>\n",
       "</div>"
      ],
      "text/plain": [
       "        v2                                                               \n",
       "     count unique                                                top freq\n",
       "v1                                                                       \n",
       "ham   4825   4516                             Sorry, I'll call later   30\n",
       "spam   747    653  Please call our customer service representativ...    4"
      ]
     },
     "execution_count": 8,
     "metadata": {},
     "output_type": "execute_result"
    }
   ],
   "source": [
    "df.groupby('v1').describe()"
   ]
  },
  {
   "cell_type": "code",
   "execution_count": 9,
   "id": "832151ee",
   "metadata": {
    "execution": {
     "iopub.execute_input": "2021-12-22T19:17:58.717633Z",
     "iopub.status.busy": "2021-12-22T19:17:58.716525Z",
     "iopub.status.idle": "2021-12-22T19:17:58.725291Z",
     "shell.execute_reply": "2021-12-22T19:17:58.725883Z",
     "shell.execute_reply.started": "2021-12-22T17:58:37.332244Z"
    },
    "papermill": {
     "duration": 0.238321,
     "end_time": "2021-12-22T19:17:58.726086",
     "exception": false,
     "start_time": "2021-12-22T19:17:58.487765",
     "status": "completed"
    },
    "tags": []
   },
   "outputs": [
    {
     "data": {
      "text/plain": [
       "ham     4825\n",
       "spam     747\n",
       "Name: v1, dtype: int64"
      ]
     },
     "execution_count": 9,
     "metadata": {},
     "output_type": "execute_result"
    }
   ],
   "source": [
    "df['v1'].value_counts()"
   ]
  },
  {
   "cell_type": "code",
   "execution_count": 10,
   "id": "8043fbc7",
   "metadata": {
    "execution": {
     "iopub.execute_input": "2021-12-22T19:17:59.182375Z",
     "iopub.status.busy": "2021-12-22T19:17:59.181285Z",
     "iopub.status.idle": "2021-12-22T19:17:59.186968Z",
     "shell.execute_reply": "2021-12-22T19:17:59.187601Z",
     "shell.execute_reply.started": "2021-12-22T17:58:38.101021Z"
    },
    "papermill": {
     "duration": 0.238354,
     "end_time": "2021-12-22T19:17:59.187780",
     "exception": false,
     "start_time": "2021-12-22T19:17:58.949426",
     "status": "completed"
    },
    "tags": []
   },
   "outputs": [
    {
     "data": {
      "text/plain": [
       "0.15481865284974095"
      ]
     },
     "execution_count": 10,
     "metadata": {},
     "output_type": "execute_result"
    }
   ],
   "source": [
    "747/4825"
   ]
  },
  {
   "cell_type": "code",
   "execution_count": 11,
   "id": "c910d0be",
   "metadata": {
    "execution": {
     "iopub.execute_input": "2021-12-22T19:17:59.650767Z",
     "iopub.status.busy": "2021-12-22T19:17:59.649610Z",
     "iopub.status.idle": "2021-12-22T19:17:59.659963Z",
     "shell.execute_reply": "2021-12-22T19:17:59.660592Z",
     "shell.execute_reply.started": "2021-12-22T17:58:38.736386Z"
    },
    "papermill": {
     "duration": 0.244145,
     "end_time": "2021-12-22T19:17:59.660782",
     "exception": false,
     "start_time": "2021-12-22T19:17:59.416637",
     "status": "completed"
    },
    "tags": []
   },
   "outputs": [
    {
     "data": {
      "text/plain": [
       "(747, 2)"
      ]
     },
     "execution_count": 11,
     "metadata": {},
     "output_type": "execute_result"
    }
   ],
   "source": [
    "df_spam=df[df['v1']=='spam']\n",
    "df_spam.shape"
   ]
  },
  {
   "cell_type": "code",
   "execution_count": 12,
   "id": "cce5e4ec",
   "metadata": {
    "execution": {
     "iopub.execute_input": "2021-12-22T19:18:00.125010Z",
     "iopub.status.busy": "2021-12-22T19:18:00.123881Z",
     "iopub.status.idle": "2021-12-22T19:18:00.130222Z",
     "shell.execute_reply": "2021-12-22T19:18:00.130810Z",
     "shell.execute_reply.started": "2021-12-22T17:58:39.300121Z"
    },
    "papermill": {
     "duration": 0.236917,
     "end_time": "2021-12-22T19:18:00.131018",
     "exception": false,
     "start_time": "2021-12-22T19:17:59.894101",
     "status": "completed"
    },
    "tags": []
   },
   "outputs": [
    {
     "data": {
      "text/plain": [
       "(4825, 2)"
      ]
     },
     "execution_count": 12,
     "metadata": {},
     "output_type": "execute_result"
    }
   ],
   "source": [
    "df_ham=df[df['v1']=='ham']\n",
    "df_ham.shape"
   ]
  },
  {
   "cell_type": "code",
   "execution_count": 13,
   "id": "996ce8e4",
   "metadata": {
    "execution": {
     "iopub.execute_input": "2021-12-22T19:18:00.594663Z",
     "iopub.status.busy": "2021-12-22T19:18:00.593764Z",
     "iopub.status.idle": "2021-12-22T19:18:00.607539Z",
     "shell.execute_reply": "2021-12-22T19:18:00.608233Z",
     "shell.execute_reply.started": "2021-12-22T17:58:39.892918Z"
    },
    "papermill": {
     "duration": 0.25069,
     "end_time": "2021-12-22T19:18:00.608427",
     "exception": false,
     "start_time": "2021-12-22T19:18:00.357737",
     "status": "completed"
    },
    "tags": []
   },
   "outputs": [
    {
     "data": {
      "text/html": [
       "<div>\n",
       "<style scoped>\n",
       "    .dataframe tbody tr th:only-of-type {\n",
       "        vertical-align: middle;\n",
       "    }\n",
       "\n",
       "    .dataframe tbody tr th {\n",
       "        vertical-align: top;\n",
       "    }\n",
       "\n",
       "    .dataframe thead th {\n",
       "        text-align: right;\n",
       "    }\n",
       "</style>\n",
       "<table border=\"1\" class=\"dataframe\">\n",
       "  <thead>\n",
       "    <tr style=\"text-align: right;\">\n",
       "      <th></th>\n",
       "      <th>v1</th>\n",
       "      <th>v2</th>\n",
       "    </tr>\n",
       "  </thead>\n",
       "  <tbody>\n",
       "    <tr>\n",
       "      <th>1060</th>\n",
       "      <td>ham</td>\n",
       "      <td>I'm working technical support :)voice process....</td>\n",
       "    </tr>\n",
       "    <tr>\n",
       "      <th>2170</th>\n",
       "      <td>ham</td>\n",
       "      <td>\\CAN I PLEASE COME UP NOW IMIN TOWN.DONTMATTER...</td>\n",
       "    </tr>\n",
       "  </tbody>\n",
       "</table>\n",
       "</div>"
      ],
      "text/plain": [
       "       v1                                                 v2\n",
       "1060  ham  I'm working technical support :)voice process....\n",
       "2170  ham  \\CAN I PLEASE COME UP NOW IMIN TOWN.DONTMATTER..."
      ]
     },
     "execution_count": 13,
     "metadata": {},
     "output_type": "execute_result"
    }
   ],
   "source": [
    "df_ham.sample(2)"
   ]
  },
  {
   "cell_type": "code",
   "execution_count": 14,
   "id": "8e5c09dc",
   "metadata": {
    "execution": {
     "iopub.execute_input": "2021-12-22T19:18:01.247013Z",
     "iopub.status.busy": "2021-12-22T19:18:01.246097Z",
     "iopub.status.idle": "2021-12-22T19:18:01.252246Z",
     "shell.execute_reply": "2021-12-22T19:18:01.252855Z",
     "shell.execute_reply.started": "2021-12-22T17:58:40.575026Z"
    },
    "papermill": {
     "duration": 0.250215,
     "end_time": "2021-12-22T19:18:01.253057",
     "exception": false,
     "start_time": "2021-12-22T19:18:01.002842",
     "status": "completed"
    },
    "tags": []
   },
   "outputs": [
    {
     "data": {
      "text/plain": [
       "(747, 2)"
      ]
     },
     "execution_count": 14,
     "metadata": {},
     "output_type": "execute_result"
    }
   ],
   "source": [
    "df_ham_downsampled=df_ham.sample(df_spam.shape[0])\n",
    "df_ham_downsampled.shape\n"
   ]
  },
  {
   "cell_type": "code",
   "execution_count": 15,
   "id": "d9e77309",
   "metadata": {
    "execution": {
     "iopub.execute_input": "2021-12-22T19:18:01.693218Z",
     "iopub.status.busy": "2021-12-22T19:18:01.692491Z",
     "iopub.status.idle": "2021-12-22T19:18:01.699013Z",
     "shell.execute_reply": "2021-12-22T19:18:01.699583Z",
     "shell.execute_reply.started": "2021-12-22T17:58:41.250737Z"
    },
    "papermill": {
     "duration": 0.228179,
     "end_time": "2021-12-22T19:18:01.699977",
     "exception": false,
     "start_time": "2021-12-22T19:18:01.471798",
     "status": "completed"
    },
    "tags": []
   },
   "outputs": [
    {
     "data": {
      "text/plain": [
       "(1494, 2)"
      ]
     },
     "execution_count": 15,
     "metadata": {},
     "output_type": "execute_result"
    }
   ],
   "source": [
    "df_balanced=pd.concat([df_spam,df_ham_downsampled])\n",
    "df_balanced.shape"
   ]
  },
  {
   "cell_type": "code",
   "execution_count": 16,
   "id": "e8c26f30",
   "metadata": {
    "execution": {
     "iopub.execute_input": "2021-12-22T19:18:02.145012Z",
     "iopub.status.busy": "2021-12-22T19:18:02.143953Z",
     "iopub.status.idle": "2021-12-22T19:18:02.149436Z",
     "shell.execute_reply": "2021-12-22T19:18:02.150076Z",
     "shell.execute_reply.started": "2021-12-22T17:58:41.956292Z"
    },
    "papermill": {
     "duration": 0.232858,
     "end_time": "2021-12-22T19:18:02.150256",
     "exception": false,
     "start_time": "2021-12-22T19:18:01.917398",
     "status": "completed"
    },
    "tags": []
   },
   "outputs": [
    {
     "data": {
      "text/plain": [
       "spam    747\n",
       "ham     747\n",
       "Name: v1, dtype: int64"
      ]
     },
     "execution_count": 16,
     "metadata": {},
     "output_type": "execute_result"
    }
   ],
   "source": [
    "df_balanced['v1'].value_counts()"
   ]
  },
  {
   "cell_type": "code",
   "execution_count": 17,
   "id": "fdf8d2e8",
   "metadata": {
    "execution": {
     "iopub.execute_input": "2021-12-22T19:18:02.597701Z",
     "iopub.status.busy": "2021-12-22T19:18:02.596598Z",
     "iopub.status.idle": "2021-12-22T19:18:02.606766Z",
     "shell.execute_reply": "2021-12-22T19:18:02.607416Z",
     "shell.execute_reply.started": "2021-12-22T17:58:43.303622Z"
    },
    "papermill": {
     "duration": 0.239218,
     "end_time": "2021-12-22T19:18:02.607610",
     "exception": false,
     "start_time": "2021-12-22T19:18:02.368392",
     "status": "completed"
    },
    "tags": []
   },
   "outputs": [
    {
     "data": {
      "text/html": [
       "<div>\n",
       "<style scoped>\n",
       "    .dataframe tbody tr th:only-of-type {\n",
       "        vertical-align: middle;\n",
       "    }\n",
       "\n",
       "    .dataframe tbody tr th {\n",
       "        vertical-align: top;\n",
       "    }\n",
       "\n",
       "    .dataframe thead th {\n",
       "        text-align: right;\n",
       "    }\n",
       "</style>\n",
       "<table border=\"1\" class=\"dataframe\">\n",
       "  <thead>\n",
       "    <tr style=\"text-align: right;\">\n",
       "      <th></th>\n",
       "      <th>v1</th>\n",
       "      <th>v2</th>\n",
       "    </tr>\n",
       "  </thead>\n",
       "  <tbody>\n",
       "    <tr>\n",
       "      <th>1090</th>\n",
       "      <td>spam</td>\n",
       "      <td>WIN URGENT! Your mobile number has been awarde...</td>\n",
       "    </tr>\n",
       "    <tr>\n",
       "      <th>21</th>\n",
       "      <td>ham</td>\n",
       "      <td>IÛ÷m going to try for 2 months ha ha only joking</td>\n",
       "    </tr>\n",
       "    <tr>\n",
       "      <th>3142</th>\n",
       "      <td>ham</td>\n",
       "      <td>Boy; I love u Grl: Hogolo Boy: gold chain kods...</td>\n",
       "    </tr>\n",
       "    <tr>\n",
       "      <th>472</th>\n",
       "      <td>ham</td>\n",
       "      <td>Nothing. I meant that once the money enters yo...</td>\n",
       "    </tr>\n",
       "    <tr>\n",
       "      <th>3220</th>\n",
       "      <td>spam</td>\n",
       "      <td>Thanks for your ringtone order, reference numb...</td>\n",
       "    </tr>\n",
       "  </tbody>\n",
       "</table>\n",
       "</div>"
      ],
      "text/plain": [
       "        v1                                                 v2\n",
       "1090  spam  WIN URGENT! Your mobile number has been awarde...\n",
       "21     ham  IÛ÷m going to try for 2 months ha ha only joking\n",
       "3142   ham  Boy; I love u Grl: Hogolo Boy: gold chain kods...\n",
       "472    ham  Nothing. I meant that once the money enters yo...\n",
       "3220  spam  Thanks for your ringtone order, reference numb..."
      ]
     },
     "execution_count": 17,
     "metadata": {},
     "output_type": "execute_result"
    }
   ],
   "source": [
    "df_balanced.sample(5)"
   ]
  },
  {
   "cell_type": "code",
   "execution_count": 18,
   "id": "34e8427c",
   "metadata": {
    "execution": {
     "iopub.execute_input": "2021-12-22T19:18:03.064152Z",
     "iopub.status.busy": "2021-12-22T19:18:03.063130Z",
     "iopub.status.idle": "2021-12-22T19:18:03.076773Z",
     "shell.execute_reply": "2021-12-22T19:18:03.077259Z",
     "shell.execute_reply.started": "2021-12-22T17:58:44.241658Z"
    },
    "papermill": {
     "duration": 0.243851,
     "end_time": "2021-12-22T19:18:03.077443",
     "exception": false,
     "start_time": "2021-12-22T19:18:02.833592",
     "status": "completed"
    },
    "tags": []
   },
   "outputs": [
    {
     "data": {
      "text/html": [
       "<div>\n",
       "<style scoped>\n",
       "    .dataframe tbody tr th:only-of-type {\n",
       "        vertical-align: middle;\n",
       "    }\n",
       "\n",
       "    .dataframe tbody tr th {\n",
       "        vertical-align: top;\n",
       "    }\n",
       "\n",
       "    .dataframe thead th {\n",
       "        text-align: right;\n",
       "    }\n",
       "</style>\n",
       "<table border=\"1\" class=\"dataframe\">\n",
       "  <thead>\n",
       "    <tr style=\"text-align: right;\">\n",
       "      <th></th>\n",
       "      <th>v1</th>\n",
       "      <th>v2</th>\n",
       "      <th>spam</th>\n",
       "    </tr>\n",
       "  </thead>\n",
       "  <tbody>\n",
       "    <tr>\n",
       "      <th>3774</th>\n",
       "      <td>ham</td>\n",
       "      <td>Hi! You just spoke to MANEESHA V. We'd like to...</td>\n",
       "      <td>0</td>\n",
       "    </tr>\n",
       "    <tr>\n",
       "      <th>1690</th>\n",
       "      <td>spam</td>\n",
       "      <td>Sunshine Quiz Wkly Q! Win a top Sony DVD playe...</td>\n",
       "      <td>1</td>\n",
       "    </tr>\n",
       "    <tr>\n",
       "      <th>5147</th>\n",
       "      <td>spam</td>\n",
       "      <td>Get your garden ready for summer with a FREE s...</td>\n",
       "      <td>1</td>\n",
       "    </tr>\n",
       "    <tr>\n",
       "      <th>5250</th>\n",
       "      <td>spam</td>\n",
       "      <td>Urgent! Please call 09061213237 from a landlin...</td>\n",
       "      <td>1</td>\n",
       "    </tr>\n",
       "    <tr>\n",
       "      <th>4894</th>\n",
       "      <td>spam</td>\n",
       "      <td>Want the latest Video handset? 750 anytime any...</td>\n",
       "      <td>1</td>\n",
       "    </tr>\n",
       "    <tr>\n",
       "      <th>4014</th>\n",
       "      <td>spam</td>\n",
       "      <td>You will be receiving this week's Triple Echo ...</td>\n",
       "      <td>1</td>\n",
       "    </tr>\n",
       "    <tr>\n",
       "      <th>1740</th>\n",
       "      <td>spam</td>\n",
       "      <td>UR GOING 2 BAHAMAS! CallFREEFONE 08081560665 a...</td>\n",
       "      <td>1</td>\n",
       "    </tr>\n",
       "    <tr>\n",
       "      <th>4629</th>\n",
       "      <td>ham</td>\n",
       "      <td>Everybody had fun this evening. Miss you.</td>\n",
       "      <td>0</td>\n",
       "    </tr>\n",
       "    <tr>\n",
       "      <th>3260</th>\n",
       "      <td>ham</td>\n",
       "      <td>Yup i'm still having coffee wif my frens... My...</td>\n",
       "      <td>0</td>\n",
       "    </tr>\n",
       "    <tr>\n",
       "      <th>4152</th>\n",
       "      <td>spam</td>\n",
       "      <td>URGENT!! Your 4* Costa Del Sol Holiday or å£50...</td>\n",
       "      <td>1</td>\n",
       "    </tr>\n",
       "  </tbody>\n",
       "</table>\n",
       "</div>"
      ],
      "text/plain": [
       "        v1                                                 v2  spam\n",
       "3774   ham  Hi! You just spoke to MANEESHA V. We'd like to...     0\n",
       "1690  spam  Sunshine Quiz Wkly Q! Win a top Sony DVD playe...     1\n",
       "5147  spam  Get your garden ready for summer with a FREE s...     1\n",
       "5250  spam  Urgent! Please call 09061213237 from a landlin...     1\n",
       "4894  spam  Want the latest Video handset? 750 anytime any...     1\n",
       "4014  spam  You will be receiving this week's Triple Echo ...     1\n",
       "1740  spam  UR GOING 2 BAHAMAS! CallFREEFONE 08081560665 a...     1\n",
       "4629   ham          Everybody had fun this evening. Miss you.     0\n",
       "3260   ham  Yup i'm still having coffee wif my frens... My...     0\n",
       "4152  spam  URGENT!! Your 4* Costa Del Sol Holiday or å£50...     1"
      ]
     },
     "execution_count": 18,
     "metadata": {},
     "output_type": "execute_result"
    }
   ],
   "source": [
    "df_balanced['spam']=df_balanced['v1'].apply(lambda x:1 if x=='spam' else 0)\n",
    "df_balanced.sample(10)"
   ]
  },
  {
   "cell_type": "code",
   "execution_count": 19,
   "id": "65ef7cc2",
   "metadata": {
    "execution": {
     "iopub.execute_input": "2021-12-22T19:18:03.571173Z",
     "iopub.status.busy": "2021-12-22T19:18:03.570072Z",
     "iopub.status.idle": "2021-12-22T19:18:03.784445Z",
     "shell.execute_reply": "2021-12-22T19:18:03.783841Z",
     "shell.execute_reply.started": "2021-12-22T17:58:45.010978Z"
    },
    "papermill": {
     "duration": 0.477783,
     "end_time": "2021-12-22T19:18:03.784603",
     "exception": false,
     "start_time": "2021-12-22T19:18:03.306820",
     "status": "completed"
    },
    "tags": []
   },
   "outputs": [],
   "source": [
    "from sklearn.model_selection import train_test_split\n",
    "X_train,X_test,y_train,y_test=train_test_split(df_balanced['v2'],df_balanced['spam'],stratify=df_balanced['spam'])"
   ]
  },
  {
   "cell_type": "code",
   "execution_count": 20,
   "id": "8e3643d3",
   "metadata": {
    "execution": {
     "iopub.execute_input": "2021-12-22T19:18:04.253006Z",
     "iopub.status.busy": "2021-12-22T19:18:04.251740Z",
     "iopub.status.idle": "2021-12-22T19:18:04.258356Z",
     "shell.execute_reply": "2021-12-22T19:18:04.258937Z",
     "shell.execute_reply.started": "2021-12-22T17:58:46.885193Z"
    },
    "papermill": {
     "duration": 0.242511,
     "end_time": "2021-12-22T19:18:04.259138",
     "exception": false,
     "start_time": "2021-12-22T19:18:04.016627",
     "status": "completed"
    },
    "tags": []
   },
   "outputs": [
    {
     "data": {
      "text/plain": [
       "54      SMS. ac Sptv: The New Jersey Devils and the De...\n",
       "4164    Dear Voucher Holder, To claim this weeks offer...\n",
       "2094    PRIVATE! Your 2004 Account Statement for 07742...\n",
       "3748    Dear Voucher Holder 2 claim your 1st class air...\n",
       "Name: v2, dtype: object"
      ]
     },
     "execution_count": 20,
     "metadata": {},
     "output_type": "execute_result"
    }
   ],
   "source": [
    "X_train.head(4)"
   ]
  },
  {
   "cell_type": "code",
   "execution_count": 21,
   "id": "ba6c2cd8",
   "metadata": {
    "execution": {
     "iopub.execute_input": "2021-12-22T19:18:04.737628Z",
     "iopub.status.busy": "2021-12-22T19:18:04.736394Z",
     "iopub.status.idle": "2021-12-22T19:18:28.496599Z",
     "shell.execute_reply": "2021-12-22T19:18:28.495768Z",
     "shell.execute_reply.started": "2021-12-22T17:58:47.884236Z"
    },
    "papermill": {
     "duration": 23.999585,
     "end_time": "2021-12-22T19:18:28.496811",
     "exception": false,
     "start_time": "2021-12-22T19:18:04.497226",
     "status": "completed"
    },
    "tags": []
   },
   "outputs": [
    {
     "name": "stderr",
     "output_type": "stream",
     "text": [
      "2021-12-22 19:18:05.270561: W tensorflow/stream_executor/platform/default/dso_loader.cc:64] Could not load dynamic library 'libcuda.so.1'; dlerror: libcuda.so.1: cannot open shared object file: No such file or directory; LD_LIBRARY_PATH: /usr/local/cuda/lib64:/usr/local/cuda/lib:/usr/local/lib/x86_64-linux-gnu:/usr/local/nvidia/lib:/usr/local/nvidia/lib64:\n",
      "2021-12-22 19:18:05.270633: W tensorflow/stream_executor/cuda/cuda_driver.cc:269] failed call to cuInit: UNKNOWN ERROR (303)\n",
      "2021-12-22 19:18:05.270662: I tensorflow/stream_executor/cuda/cuda_diagnostics.cc:156] kernel driver does not appear to be running on this host (d3327877fa05): /proc/driver/nvidia/version does not exist\n",
      "2021-12-22 19:18:05.271034: I tensorflow/core/platform/cpu_feature_guard.cc:151] This TensorFlow binary is optimized with oneAPI Deep Neural Network Library (oneDNN) to use the following CPU instructions in performance-critical operations:  AVX2 FMA\n",
      "To enable them in other operations, rebuild TensorFlow with the appropriate compiler flags.\n"
     ]
    }
   ],
   "source": [
    "bert_preprocess = hub.KerasLayer('https://tfhub.dev/tensorflow/bert_en_uncased_preprocess/3')\n",
    "bert_encoder = hub.KerasLayer('https://tfhub.dev/tensorflow/bert_en_uncased_L-12_H-768_A-12/4')"
   ]
  },
  {
   "cell_type": "code",
   "execution_count": 22,
   "id": "2eb58573",
   "metadata": {
    "execution": {
     "iopub.execute_input": "2021-12-22T19:18:28.973107Z",
     "iopub.status.busy": "2021-12-22T19:18:28.972301Z",
     "iopub.status.idle": "2021-12-22T19:18:30.811564Z",
     "shell.execute_reply": "2021-12-22T19:18:30.812207Z",
     "shell.execute_reply.started": "2021-12-22T17:59:29.173767Z"
    },
    "papermill": {
     "duration": 2.070907,
     "end_time": "2021-12-22T19:18:30.812401",
     "exception": false,
     "start_time": "2021-12-22T19:18:28.741494",
     "status": "completed"
    },
    "tags": []
   },
   "outputs": [
    {
     "data": {
      "text/plain": [
       "<tf.Tensor: shape=(2, 768), dtype=float32, numpy=\n",
       "array([[-0.8435169 , -0.5132725 , -0.88845724, ..., -0.74748874,\n",
       "        -0.7531473 ,  0.91964495],\n",
       "       [-0.8720836 , -0.5054398 , -0.9444667 , ..., -0.8584752 ,\n",
       "        -0.7174535 ,  0.8808299 ]], dtype=float32)>"
      ]
     },
     "execution_count": 22,
     "metadata": {},
     "output_type": "execute_result"
    }
   ],
   "source": [
    "def get_sentence_embeding(sentences):\n",
    "    preprocessed_text=bert_preprocess(sentences)\n",
    "    return bert_encoder(preprocessed_text)['pooled_output']\n",
    "\n",
    "get_sentence_embeding([\n",
    "    \"500$ discount.hurry up\",\n",
    "    \"Bhavin,are you up for a volleybal game tomorrow?\"\n",
    "])"
   ]
  },
  {
   "cell_type": "code",
   "execution_count": 23,
   "id": "e72b7108",
   "metadata": {
    "execution": {
     "iopub.execute_input": "2021-12-22T19:18:31.285809Z",
     "iopub.status.busy": "2021-12-22T19:18:31.285041Z",
     "iopub.status.idle": "2021-12-22T19:18:33.949127Z",
     "shell.execute_reply": "2021-12-22T19:18:33.948471Z",
     "shell.execute_reply.started": "2021-12-22T17:59:32.512467Z"
    },
    "papermill": {
     "duration": 2.901462,
     "end_time": "2021-12-22T19:18:33.949290",
     "exception": false,
     "start_time": "2021-12-22T19:18:31.047828",
     "status": "completed"
    },
    "tags": []
   },
   "outputs": [],
   "source": [
    "e=get_sentence_embeding([\n",
    "    \"banana\",\n",
    "    \"grapes\",\n",
    "    \"mango\",\n",
    "    \"jeff bezos\",\n",
    "    'elon musk',\n",
    "    'bill gates'\n",
    "])"
   ]
  },
  {
   "cell_type": "code",
   "execution_count": 24,
   "id": "43d0d1fd",
   "metadata": {
    "execution": {
     "iopub.execute_input": "2021-12-22T19:18:34.414881Z",
     "iopub.status.busy": "2021-12-22T19:18:34.414116Z",
     "iopub.status.idle": "2021-12-22T19:18:34.420341Z",
     "shell.execute_reply": "2021-12-22T19:18:34.420983Z",
     "shell.execute_reply.started": "2021-12-22T17:59:35.718452Z"
    },
    "papermill": {
     "duration": 0.245835,
     "end_time": "2021-12-22T19:18:34.421171",
     "exception": false,
     "start_time": "2021-12-22T19:18:34.175336",
     "status": "completed"
    },
    "tags": []
   },
   "outputs": [
    {
     "data": {
      "text/plain": [
       "<tf.Tensor: shape=(6, 768), dtype=float32, numpy=\n",
       "array([[-0.7606919 , -0.14219391,  0.49604574, ...,  0.42165303,\n",
       "        -0.5322141 ,  0.80312175],\n",
       "       [-0.86023235, -0.21242976,  0.49156845, ...,  0.39797997,\n",
       "        -0.6050632 ,  0.8447167 ],\n",
       "       [-0.7128862 , -0.15463905,  0.3840169 , ...,  0.35278746,\n",
       "        -0.5099134 ,  0.734741  ],\n",
       "       [-0.8253345 , -0.35550553, -0.5906968 , ..., -0.0161373 ,\n",
       "        -0.6141755 ,  0.87230295],\n",
       "       [-0.75041324, -0.2681262 , -0.2668968 , ...,  0.02839376,\n",
       "        -0.5938099 ,  0.7974986 ],\n",
       "       [-0.7854438 , -0.2994968 ,  0.41027415, ...,  0.52225393,\n",
       "        -0.49573544,  0.815075  ]], dtype=float32)>"
      ]
     },
     "execution_count": 24,
     "metadata": {},
     "output_type": "execute_result"
    }
   ],
   "source": [
    "e"
   ]
  },
  {
   "cell_type": "code",
   "execution_count": 25,
   "id": "7767eabe",
   "metadata": {
    "execution": {
     "iopub.execute_input": "2021-12-22T19:18:34.867503Z",
     "iopub.status.busy": "2021-12-22T19:18:34.866741Z",
     "iopub.status.idle": "2021-12-22T19:18:34.877599Z",
     "shell.execute_reply": "2021-12-22T19:18:34.878183Z",
     "shell.execute_reply.started": "2021-12-22T17:59:41.176564Z"
    },
    "papermill": {
     "duration": 0.235432,
     "end_time": "2021-12-22T19:18:34.878369",
     "exception": false,
     "start_time": "2021-12-22T19:18:34.642937",
     "status": "completed"
    },
    "tags": []
   },
   "outputs": [
    {
     "data": {
      "text/plain": [
       "array([[0.9911088]], dtype=float32)"
      ]
     },
     "execution_count": 25,
     "metadata": {},
     "output_type": "execute_result"
    }
   ],
   "source": [
    "from sklearn.metrics.pairwise import cosine_similarity\n",
    "cosine_similarity([e[0]],[e[1]])\n"
   ]
  },
  {
   "cell_type": "code",
   "execution_count": 26,
   "id": "2b351c87",
   "metadata": {
    "execution": {
     "iopub.execute_input": "2021-12-22T19:18:35.340199Z",
     "iopub.status.busy": "2021-12-22T19:18:35.334313Z",
     "iopub.status.idle": "2021-12-22T19:18:35.342877Z",
     "shell.execute_reply": "2021-12-22T19:18:35.343564Z",
     "shell.execute_reply.started": "2021-12-22T17:59:45.430560Z"
    },
    "papermill": {
     "duration": 0.23649,
     "end_time": "2021-12-22T19:18:35.343766",
     "exception": false,
     "start_time": "2021-12-22T19:18:35.107276",
     "status": "completed"
    },
    "tags": []
   },
   "outputs": [
    {
     "data": {
      "text/plain": [
       "array([[0.84703857]], dtype=float32)"
      ]
     },
     "execution_count": 26,
     "metadata": {},
     "output_type": "execute_result"
    }
   ],
   "source": [
    "from sklearn.metrics.pairwise import cosine_similarity\n",
    "cosine_similarity([e[0]],[e[3]])"
   ]
  },
  {
   "cell_type": "code",
   "execution_count": 27,
   "id": "04eae371",
   "metadata": {
    "execution": {
     "iopub.execute_input": "2021-12-22T19:18:35.814253Z",
     "iopub.status.busy": "2021-12-22T19:18:35.811855Z",
     "iopub.status.idle": "2021-12-22T19:18:37.186626Z",
     "shell.execute_reply": "2021-12-22T19:18:37.186039Z",
     "shell.execute_reply.started": "2021-12-22T17:59:48.722180Z"
    },
    "papermill": {
     "duration": 1.616171,
     "end_time": "2021-12-22T19:18:37.186790",
     "exception": false,
     "start_time": "2021-12-22T19:18:35.570619",
     "status": "completed"
    },
    "tags": []
   },
   "outputs": [],
   "source": [
    "text_input=tf.keras.layers.Input(shape=(),dtype=tf.string,name='text')\n",
    "preprocessed_text=bert_preprocess(text_input)\n",
    "outputs=bert_encoder(preprocessed_text)\n",
    "\n",
    "l=tf.keras.layers.Dropout(0.1,name='dropout')(outputs['pooled_output'])\n",
    "l=tf.keras.layers.Dense(1,activation='sigmoid',name='output')(l)\n",
    "\n",
    "\n",
    "model=tf.keras.Model(inputs=[text_input],outputs=[l])"
   ]
  },
  {
   "cell_type": "code",
   "execution_count": 28,
   "id": "09b03925",
   "metadata": {
    "execution": {
     "iopub.execute_input": "2021-12-22T19:18:37.673147Z",
     "iopub.status.busy": "2021-12-22T19:18:37.672145Z",
     "iopub.status.idle": "2021-12-22T19:18:37.693295Z",
     "shell.execute_reply": "2021-12-22T19:18:37.692692Z",
     "shell.execute_reply.started": "2021-12-22T17:59:53.783849Z"
    },
    "papermill": {
     "duration": 0.266546,
     "end_time": "2021-12-22T19:18:37.693469",
     "exception": false,
     "start_time": "2021-12-22T19:18:37.426923",
     "status": "completed"
    },
    "tags": []
   },
   "outputs": [
    {
     "name": "stdout",
     "output_type": "stream",
     "text": [
      "Model: \"model\"\n",
      "__________________________________________________________________________________________________\n",
      " Layer (type)                   Output Shape         Param #     Connected to                     \n",
      "==================================================================================================\n",
      " text (InputLayer)              [(None,)]            0           []                               \n",
      "                                                                                                  \n",
      " keras_layer (KerasLayer)       {'input_type_ids':   0           ['text[0][0]']                   \n",
      "                                (None, 128),                                                      \n",
      "                                 'input_word_ids':                                                \n",
      "                                (None, 128),                                                      \n",
      "                                 'input_mask': (Non                                               \n",
      "                                e, 128)}                                                          \n",
      "                                                                                                  \n",
      " keras_layer_1 (KerasLayer)     {'sequence_output':  109482241   ['keras_layer[0][0]',            \n",
      "                                 (None, 128, 768),                'keras_layer[0][1]',            \n",
      "                                 'pooled_output': (               'keras_layer[0][2]']            \n",
      "                                None, 768),                                                       \n",
      "                                 'default': (None,                                                \n",
      "                                768),                                                             \n",
      "                                 'encoder_outputs':                                               \n",
      "                                 [(None, 128, 768),                                               \n",
      "                                 (None, 128, 768),                                                \n",
      "                                 (None, 128, 768),                                                \n",
      "                                 (None, 128, 768),                                                \n",
      "                                 (None, 128, 768),                                                \n",
      "                                 (None, 128, 768),                                                \n",
      "                                 (None, 128, 768),                                                \n",
      "                                 (None, 128, 768),                                                \n",
      "                                 (None, 128, 768),                                                \n",
      "                                 (None, 128, 768),                                                \n",
      "                                 (None, 128, 768),                                                \n",
      "                                 (None, 128, 768)]}                                               \n",
      "                                                                                                  \n",
      " dropout (Dropout)              (None, 768)          0           ['keras_layer_1[0][13]']         \n",
      "                                                                                                  \n",
      " output (Dense)                 (None, 1)            769         ['dropout[0][0]']                \n",
      "                                                                                                  \n",
      "==================================================================================================\n",
      "Total params: 109,483,010\n",
      "Trainable params: 769\n",
      "Non-trainable params: 109,482,241\n",
      "__________________________________________________________________________________________________\n"
     ]
    }
   ],
   "source": [
    "model.summary()"
   ]
  },
  {
   "cell_type": "code",
   "execution_count": 29,
   "id": "10caf4e7",
   "metadata": {
    "execution": {
     "iopub.execute_input": "2021-12-22T19:18:38.169155Z",
     "iopub.status.busy": "2021-12-22T19:18:38.167643Z",
     "iopub.status.idle": "2021-12-22T19:18:38.189141Z",
     "shell.execute_reply": "2021-12-22T19:18:38.189697Z",
     "shell.execute_reply.started": "2021-12-22T17:59:58.246025Z"
    },
    "papermill": {
     "duration": 0.268667,
     "end_time": "2021-12-22T19:18:38.189915",
     "exception": false,
     "start_time": "2021-12-22T19:18:37.921248",
     "status": "completed"
    },
    "tags": []
   },
   "outputs": [],
   "source": [
    "METRICS=[\n",
    "    tf.keras.metrics.BinaryAccuracy(name='accuracy'),\n",
    "    tf.keras.metrics.Precision(name='precision'),\n",
    "    tf.keras.metrics.Recall(name='recall')\n",
    "    \n",
    "    \n",
    "]\n",
    "\n",
    "model.compile(optimizer='adam',\n",
    "             loss='binary_crossentropy',\n",
    "             metrics=METRICS)"
   ]
  },
  {
   "cell_type": "code",
   "execution_count": 30,
   "id": "6c4a2118",
   "metadata": {
    "execution": {
     "iopub.execute_input": "2021-12-22T19:18:38.654309Z",
     "iopub.status.busy": "2021-12-22T19:18:38.653179Z",
     "iopub.status.idle": "2021-12-22T20:06:09.577791Z",
     "shell.execute_reply": "2021-12-22T20:06:09.578534Z",
     "shell.execute_reply.started": "2021-12-22T18:00:35.216038Z"
    },
    "papermill": {
     "duration": 2851.160181,
     "end_time": "2021-12-22T20:06:09.578748",
     "exception": false,
     "start_time": "2021-12-22T19:18:38.418567",
     "status": "completed"
    },
    "tags": []
   },
   "outputs": [
    {
     "name": "stdout",
     "output_type": "stream",
     "text": [
      "Epoch 1/10\n",
      "35/35 [==============================] - 292s 8s/step - loss: 0.6902 - accuracy: 0.5955 - precision: 0.5915 - recall: 0.6179\n",
      "Epoch 2/10\n",
      "35/35 [==============================] - 286s 8s/step - loss: 0.5312 - accuracy: 0.7893 - precision: 0.8164 - recall: 0.7464\n",
      "Epoch 3/10\n",
      "35/35 [==============================] - 280s 8s/step - loss: 0.4598 - accuracy: 0.8375 - precision: 0.8203 - recall: 0.8643\n",
      "Epoch 4/10\n",
      "35/35 [==============================] - 280s 8s/step - loss: 0.4076 - accuracy: 0.8750 - precision: 0.8723 - recall: 0.8786\n",
      "Epoch 5/10\n",
      "35/35 [==============================] - 289s 8s/step - loss: 0.3709 - accuracy: 0.8875 - precision: 0.8716 - recall: 0.9089\n",
      "Epoch 6/10\n",
      "35/35 [==============================] - 282s 8s/step - loss: 0.3446 - accuracy: 0.8857 - precision: 0.8686 - recall: 0.9089\n",
      "Epoch 7/10\n",
      "35/35 [==============================] - 288s 8s/step - loss: 0.3261 - accuracy: 0.8938 - precision: 0.8875 - recall: 0.9018\n",
      "Epoch 8/10\n",
      "35/35 [==============================] - 282s 8s/step - loss: 0.3092 - accuracy: 0.9000 - precision: 0.8916 - recall: 0.9107\n",
      "Epoch 9/10\n",
      "35/35 [==============================] - 289s 8s/step - loss: 0.2906 - accuracy: 0.9027 - precision: 0.8963 - recall: 0.9107\n",
      "Epoch 10/10\n",
      "35/35 [==============================] - 281s 8s/step - loss: 0.2823 - accuracy: 0.9045 - precision: 0.9009 - recall: 0.9089\n"
     ]
    },
    {
     "data": {
      "text/plain": [
       "<keras.callbacks.History at 0x7f4a59996310>"
      ]
     },
     "execution_count": 30,
     "metadata": {},
     "output_type": "execute_result"
    }
   ],
   "source": [
    "model.fit(X_train,y_train,epochs=10)"
   ]
  },
  {
   "cell_type": "code",
   "execution_count": 31,
   "id": "9e04c178",
   "metadata": {
    "execution": {
     "iopub.execute_input": "2021-12-22T20:06:10.260145Z",
     "iopub.status.busy": "2021-12-22T20:06:10.259335Z",
     "iopub.status.idle": "2021-12-22T20:07:45.908347Z",
     "shell.execute_reply": "2021-12-22T20:07:45.908969Z",
     "shell.execute_reply.started": "2021-12-22T18:51:13.496738Z"
    },
    "papermill": {
     "duration": 95.994808,
     "end_time": "2021-12-22T20:07:45.909182",
     "exception": false,
     "start_time": "2021-12-22T20:06:09.914374",
     "status": "completed"
    },
    "tags": []
   },
   "outputs": [
    {
     "name": "stdout",
     "output_type": "stream",
     "text": [
      "12/12 [==============================] - 96s 8s/step - loss: 0.2943 - accuracy: 0.9011 - precision: 0.8788 - recall: 0.9305\n"
     ]
    },
    {
     "data": {
      "text/plain": [
       "[0.29425379633903503,\n",
       " 0.9010695219039917,\n",
       " 0.8787878751754761,\n",
       " 0.9304812550544739]"
      ]
     },
     "execution_count": 31,
     "metadata": {},
     "output_type": "execute_result"
    }
   ],
   "source": [
    "model.evaluate(X_test,y_test)"
   ]
  },
  {
   "cell_type": "code",
   "execution_count": 32,
   "id": "1401d819",
   "metadata": {
    "execution": {
     "iopub.execute_input": "2021-12-22T20:07:46.591189Z",
     "iopub.status.busy": "2021-12-22T20:07:46.590402Z",
     "iopub.status.idle": "2021-12-22T20:09:29.067983Z",
     "shell.execute_reply": "2021-12-22T20:09:29.067334Z",
     "shell.execute_reply.started": "2021-12-22T18:55:11.856553Z"
    },
    "papermill": {
     "duration": 102.816631,
     "end_time": "2021-12-22T20:09:29.068168",
     "exception": false,
     "start_time": "2021-12-22T20:07:46.251537",
     "status": "completed"
    },
    "tags": []
   },
   "outputs": [],
   "source": [
    "y_predicted=model.predict(X_test)\n",
    "y_predicted=y_predicted.flatten()"
   ]
  },
  {
   "cell_type": "code",
   "execution_count": 33,
   "id": "6c38a742",
   "metadata": {
    "execution": {
     "iopub.execute_input": "2021-12-22T20:09:29.754203Z",
     "iopub.status.busy": "2021-12-22T20:09:29.753436Z",
     "iopub.status.idle": "2021-12-22T20:09:29.761635Z",
     "shell.execute_reply": "2021-12-22T20:09:29.762202Z",
     "shell.execute_reply.started": "2021-12-22T18:57:07.915474Z"
    },
    "papermill": {
     "duration": 0.351829,
     "end_time": "2021-12-22T20:09:29.762410",
     "exception": false,
     "start_time": "2021-12-22T20:09:29.410581",
     "status": "completed"
    },
    "tags": []
   },
   "outputs": [
    {
     "data": {
      "text/plain": [
       "array([1, 1, 1, 0, 1, 1, 1, 0, 0, 0, 0, 1, 0, 0, 0, 0, 1, 0, 1, 0, 1, 0,\n",
       "       1, 0, 1, 1, 0, 0, 1, 0, 0, 1, 1, 0, 1, 1, 0, 1, 1, 1, 1, 0, 1, 1,\n",
       "       1, 1, 1, 0, 1, 0, 1, 0, 0, 0, 1, 1, 1, 1, 0, 0, 0, 0, 1, 0, 1, 1,\n",
       "       0, 1, 0, 0, 1, 1, 0, 1, 1, 1, 1, 1, 1, 0, 0, 1, 0, 0, 1, 0, 1, 1,\n",
       "       1, 0, 0, 1, 0, 0, 1, 0, 1, 1, 1, 1, 0, 0, 1, 0, 1, 0, 1, 1, 0, 0,\n",
       "       0, 0, 1, 1, 1, 1, 1, 0, 0, 1, 0, 0, 0, 0, 1, 1, 0, 1, 1, 1, 1, 0,\n",
       "       1, 0, 0, 0, 1, 1, 0, 0, 1, 0, 1, 1, 0, 0, 1, 1, 0, 1, 1, 1, 1, 1,\n",
       "       0, 1, 0, 0, 0, 1, 0, 0, 1, 0, 1, 1, 1, 0, 1, 1, 0, 1, 1, 1, 1, 0,\n",
       "       0, 0, 1, 0, 0, 1, 1, 0, 1, 0, 0, 0, 1, 1, 1, 1, 1, 0, 1, 1, 1, 1,\n",
       "       0, 0, 0, 1, 0, 0, 0, 1, 0, 1, 1, 0, 1, 1, 0, 0, 1, 1, 0, 0, 0, 1,\n",
       "       1, 0, 1, 0, 0, 1, 0, 1, 0, 1, 0, 0, 1, 0, 1, 0, 0, 1, 1, 0, 0, 1,\n",
       "       1, 0, 1, 0, 0, 1, 1, 1, 1, 0, 1, 1, 1, 0, 1, 1, 1, 1, 0, 1, 1, 1,\n",
       "       0, 1, 0, 0, 0, 1, 0, 0, 0, 0, 1, 1, 0, 1, 0, 0, 0, 0, 0, 0, 1, 1,\n",
       "       1, 0, 0, 0, 0, 0, 1, 1, 1, 0, 1, 0, 0, 1, 0, 0, 0, 0, 1, 0, 1, 1,\n",
       "       0, 1, 1, 1, 1, 1, 1, 1, 0, 1, 0, 0, 1, 0, 1, 1, 1, 0, 1, 0, 0, 0,\n",
       "       1, 1, 0, 0, 1, 0, 1, 1, 1, 1, 1, 0, 0, 0, 1, 0, 0, 1, 1, 1, 0, 1,\n",
       "       0, 0, 1, 0, 0, 0, 1, 1, 1, 1, 0, 0, 1, 0, 1, 0, 1, 0, 0, 1, 1, 1])"
      ]
     },
     "execution_count": 33,
     "metadata": {},
     "output_type": "execute_result"
    }
   ],
   "source": [
    "import numpy as np\n",
    "\n",
    "y_predicted=np.where(y_predicted >0.5,1,0)\n",
    "\n",
    "y_predicted"
   ]
  },
  {
   "cell_type": "code",
   "execution_count": 34,
   "id": "3ba7a15f",
   "metadata": {
    "execution": {
     "iopub.execute_input": "2021-12-22T20:09:30.450491Z",
     "iopub.status.busy": "2021-12-22T20:09:30.449669Z",
     "iopub.status.idle": "2021-12-22T20:09:30.458500Z",
     "shell.execute_reply": "2021-12-22T20:09:30.459201Z",
     "shell.execute_reply.started": "2021-12-22T18:59:09.179347Z"
    },
    "papermill": {
     "duration": 0.355656,
     "end_time": "2021-12-22T20:09:30.459388",
     "exception": false,
     "start_time": "2021-12-22T20:09:30.103732",
     "status": "completed"
    },
    "tags": []
   },
   "outputs": [
    {
     "data": {
      "text/plain": [
       "array([[163,  24],\n",
       "       [ 13, 174]])"
      ]
     },
     "execution_count": 34,
     "metadata": {},
     "output_type": "execute_result"
    }
   ],
   "source": [
    "from sklearn.metrics import confusion_matrix,classification_report\n",
    "cm=confusion_matrix(y_test,y_predicted)\n",
    "cm"
   ]
  },
  {
   "cell_type": "code",
   "execution_count": 35,
   "id": "fc1ba48a",
   "metadata": {
    "execution": {
     "iopub.execute_input": "2021-12-22T20:09:31.148500Z",
     "iopub.status.busy": "2021-12-22T20:09:31.147696Z",
     "iopub.status.idle": "2021-12-22T20:09:31.640240Z",
     "shell.execute_reply": "2021-12-22T20:09:31.639664Z",
     "shell.execute_reply.started": "2021-12-22T19:08:16.049070Z"
    },
    "papermill": {
     "duration": 0.842602,
     "end_time": "2021-12-22T20:09:31.640386",
     "exception": false,
     "start_time": "2021-12-22T20:09:30.797784",
     "status": "completed"
    },
    "tags": []
   },
   "outputs": [
    {
     "data": {
      "text/plain": [
       "Text(33.0, 0.5, 'Truth')"
      ]
     },
     "execution_count": 35,
     "metadata": {},
     "output_type": "execute_result"
    },
    {
     "data": {
      "image/png": "[encoded data removed]",
      "text/plain": [
       "<Figure size 432x288 with 2 Axes>"
      ]
     },
     "metadata": {
      "needs_background": "light"
     },
     "output_type": "display_data"
    }
   ],
   "source": [
    "from matplotlib import pyplot as plt\n",
    "import seaborn as sn\n",
    "sn.heatmap(cm,annot=True,fmt='d')\n",
    "plt.xlabel('Predicted')\n",
    "plt.ylabel('Truth')"
   ]
  },
  {
   "cell_type": "code",
   "execution_count": 36,
   "id": "91881e94",
   "metadata": {
    "execution": {
     "iopub.execute_input": "2021-12-22T20:09:32.335404Z",
     "iopub.status.busy": "2021-12-22T20:09:32.334610Z",
     "iopub.status.idle": "2021-12-22T20:09:32.343204Z",
     "shell.execute_reply": "2021-12-22T20:09:32.342630Z",
     "shell.execute_reply.started": "2021-12-22T19:11:36.301425Z"
    },
    "papermill": {
     "duration": 0.352628,
     "end_time": "2021-12-22T20:09:32.343361",
     "exception": false,
     "start_time": "2021-12-22T20:09:31.990733",
     "status": "completed"
    },
    "tags": []
   },
   "outputs": [
    {
     "name": "stdout",
     "output_type": "stream",
     "text": [
      "              precision    recall  f1-score   support\n",
      "\n",
      "           0       0.93      0.87      0.90       187\n",
      "           1       0.88      0.93      0.90       187\n",
      "\n",
      "    accuracy                           0.90       374\n",
      "   macro avg       0.90      0.90      0.90       374\n",
      "weighted avg       0.90      0.90      0.90       374\n",
      "\n"
     ]
    }
   ],
   "source": [
    "print(classification_report(y_test,y_predicted))"
   ]
  },
  {
   "cell_type": "code",
   "execution_count": null,
   "id": "5779cb6e",
   "metadata": {
    "papermill": {
     "duration": 0.341415,
     "end_time": "2021-12-22T20:09:33.023760",
     "exception": false,
     "start_time": "2021-12-22T20:09:32.682345",
     "status": "completed"
    },
    "tags": []
   },
   "outputs": [],
   "source": []
  }
 ],
 "metadata": {
  "kernelspec": {
   "display_name": "Python 3",
   "language": "python",
   "name": "python3"
  },
  "language_info": {
   "codemirror_mode": {
    "name": "ipython",
    "version": 3
   },
   "file_extension": ".py",
   "mimetype": "text/x-python",
   "name": "python",
   "nbconvert_exporter": "python",
   "pygments_lexer": "ipython3",
   "version": "3.7.12"
  },
  "papermill": {
   "default_parameters": {},
   "duration": 3191.384161,
   "end_time": "2021-12-22T20:09:37.062516",
   "environment_variables": {},
   "exception": null,
   "input_path": "__notebook__.ipynb",
   "output_path": "__notebook__.ipynb",
   "parameters": {},
   "start_time": "2021-12-22T19:16:25.678355",
   "version": "2.3.3"
  }
 },
 "nbformat": 4,
 "nbformat_minor": 5
}
